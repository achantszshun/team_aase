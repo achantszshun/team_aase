{
 "cells": [
  {
   "cell_type": "code",
   "execution_count": 5,
   "metadata": {},
   "outputs": [
    {
     "name": "stdout",
     "output_type": "stream",
     "text": [
      "Calculated depth: 5760\n"
     ]
    }
   ],
   "source": [
    "file_size = 1509949440  # size of file in bytes\n",
    "width, height = 512, 512  # dimensions of each slice\n",
    "channels = 1  # assuming grayscale\n",
    "\n",
    "# Calculate depth\n",
    "depth = file_size // (width * height * channels)\n",
    "print(f\"Calculated depth: {depth}\")\n"
   ]
  },
  {
   "cell_type": "code",
   "execution_count": 6,
   "metadata": {},
   "outputs": [
    {
     "data": {
      "image/png": "[encoded data removed]",
      "text/plain": [
       "<Figure size 1500x1500 with 10 Axes>"
      ]
     },
     "metadata": {},
     "output_type": "display_data"
    }
   ],
   "source": [
    "depth = 5760  \n",
    "\n",
    "# Load raw file data\n",
    "file_path = \"/Users/sp00n/Desktop/DSCI CAMP/scan_001.raw\"\n",
    "raw_data = np.fromfile(file_path, dtype=np.uint8)\n",
    "\n",
    "# Reshape data into a 3D array with the calculated depth\n",
    "volume = raw_data.reshape((depth, height, width))\n",
    "\n",
    "# Convert the NumPy array to a PyTorch tensor\n",
    "volume_tensor = torch.tensor(volume, dtype=torch.float32)\n",
    "\n",
    "# Normalize and visualize\n",
    "volume_tensor = (volume_tensor - volume_tensor.min()) / (volume_tensor.max() - volume_tensor.min())\n",
    "\n",
    "# Visualize a few slices along the depth axis\n",
    "def visualize_slices(volume, axis=0):\n",
    "    num_slices = min(10, volume.shape[axis])\n",
    "    fig, axes = plt.subplots(1, num_slices, figsize=(15, 15))\n",
    "\n",
    "    for i in range(num_slices):\n",
    "        if axis == 0:\n",
    "            slice_img = volume[i, :, :].numpy()\n",
    "        elif axis == 1:\n",
    "            slice_img = volume[:, i, :].numpy()\n",
    "        else:\n",
    "            slice_img = volume[:, :, i].numpy()\n",
    "\n",
    "        axes[i].imshow(slice_img, cmap=\"gray\")\n",
    "        axes[i].axis(\"off\")\n",
    "        axes[i].set_title(f\"Slice {i}\")\n",
    "\n",
    "    plt.show()\n",
    "\n",
    "# Visualize slices along the depth axis\n",
    "visualize_slices(volume_tensor, axis=0)"
   ]
  },
  {
   "cell_type": "code",
   "execution_count": null,
   "metadata": {},
   "outputs": [],
   "source": []
  }
 ],
 "metadata": {
  "kernelspec": {
   "display_name": "Python 3",
   "language": "python",
   "name": "python3"
  },
  "language_info": {
   "codemirror_mode": {
    "name": "ipython",
    "version": 3
   },
   "file_extension": ".py",
   "mimetype": "text/x-python",
   "name": "python",
   "nbconvert_exporter": "python",
   "pygments_lexer": "ipython3",
   "version": "3.12.3"
  }
 },
 "nbformat": 4,
 "nbformat_minor": 2
}
